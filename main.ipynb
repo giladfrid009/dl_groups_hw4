{
 "cells": [
  {
   "cell_type": "code",
   "execution_count": null,
   "metadata": {},
   "outputs": [],
   "source": [
    "import torch\n",
    "from experiments import run_experiments, run_invariance_tests, run_time_benchmarks, auto_device, MODEL_NAMES"
   ]
  },
  {
   "cell_type": "code",
   "execution_count": null,
   "metadata": {},
   "outputs": [],
   "source": [
    "from pprint import pprint\n",
    "pprint(MODEL_NAMES)"
   ]
  },
  {
   "cell_type": "code",
   "execution_count": null,
   "metadata": {},
   "outputs": [],
   "source": [
    "# choose device and parameters\n",
    "device = auto_device()\n",
    "\n",
    "seq_len = 10  # N\n",
    "feature_dim = 5  # D\n",
    "\n",
    "# perform equivariance and invariance tests\n",
    "run_invariance_tests(seq_len, feature_dim, device)\n",
    "\n",
    "# measure inference and forward-backward pass times\n",
    "run_time_benchmarks(seq_len, feature_dim, device)"
   ]
  },
  {
   "cell_type": "code",
   "execution_count": null,
   "metadata": {},
   "outputs": [],
   "source": [
    "# train all models and evaluate them\n",
    "# logs the results using tensorboard for future analysis\n",
    "for seq_len in [10, 100]:\n",
    "    for train_set_size in [100, 1000, 10000]:\n",
    "        run_experiments(seq_len, feature_dim, train_set_size, model_names=[\"intrinsic\"])"
   ]
  }
 ],
 "metadata": {
  "kernelspec": {
   "display_name": "dl-groups",
   "language": "python",
   "name": "python3"
  },
  "language_info": {
   "codemirror_mode": {
    "name": "ipython",
    "version": 3
   },
   "file_extension": ".py",
   "mimetype": "text/x-python",
   "name": "python",
   "nbconvert_exporter": "python",
   "pygments_lexer": "ipython3",
   "version": "3.11.9"
  }
 },
 "nbformat": 4,
 "nbformat_minor": 2
}
