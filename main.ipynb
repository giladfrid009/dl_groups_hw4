{
 "cells": [
  {
   "cell_type": "code",
   "execution_count": 1,
   "metadata": {},
   "outputs": [
    {
     "name": "stderr",
     "output_type": "stream",
     "text": [
      "/home/yashlat/miniforge3/envs/dl-groups/lib/python3.11/site-packages/tqdm/auto.py:21: TqdmWarning: IProgress not found. Please update jupyter and ipywidgets. See https://ipywidgets.readthedocs.io/en/stable/user_install.html\n",
      "  from .autonotebook import tqdm as notebook_tqdm\n"
     ]
    }
   ],
   "source": [
    "import torch\n",
    "from experiments import run_experiments, run_invariance_tests, run_time_benchmarks"
   ]
  },
  {
   "cell_type": "code",
   "execution_count": 2,
   "metadata": {},
   "outputs": [],
   "source": [
    "# choose device and parameters\n",
    "device = torch.device(\"cpu\")\n",
    "\n",
    "seq_len = 10  # N\n",
    "feature_dim = 5  # D"
   ]
  },
  {
   "cell_type": "code",
   "execution_count": 3,
   "metadata": {},
   "outputs": [
    {
     "name": "stdout",
     "output_type": "stream",
     "text": [
      "Model canonical-mlp is invariant: True\n",
      "Model canonical-attn is invariant: True\n",
      "Model symmetry-sampling-mlp is invariant: False\n",
      "Model symmetry-sampling-attn is invariant: False\n",
      "Model intrinsic is invariant: True\n",
      "Model augmented-mlp is invariant: False\n",
      "Model augmented-attn is invariant: False\n",
      "Layer LinearEquivariant is equivariant: True\n",
      "Layer LinearInvariant is invariant: True\n"
     ]
    },
    {
     "name": "stderr",
     "output_type": "stream",
     "text": [
      "/home/yashlat/miniforge3/envs/dl-groups/lib/python3.11/site-packages/torch/nn/modules/transformer.py:307: UserWarning: enable_nested_tensor is True, but self.use_nested_tensor is False because encoder_layer.self_attn.num_heads is odd\n",
      "  warnings.warn(f\"enable_nested_tensor is True, but self.use_nested_tensor is False because {why_not_sparsity_fast_path}\")\n"
     ]
    }
   ],
   "source": [
    "# perform equivariance and invariance tests\n",
    "run_invariance_tests(seq_len, feature_dim, device)"
   ]
  },
  {
   "cell_type": "code",
   "execution_count": null,
   "metadata": {},
   "outputs": [],
   "source": [
    "# measure inference and forward-backward pass times\n",
    "run_time_benchmarks(seq_len, feature_dim, device)"
   ]
  },
  {
   "cell_type": "code",
   "execution_count": null,
   "metadata": {},
   "outputs": [],
   "source": [
    "# train all models and evaluate them\n",
    "# logs the results using tensorboard for future analysis\n",
    "for seq_len in [10, 100]:\n",
    "    for train_set_size in [100, 1000, 10000]:\n",
    "        run_experiments(seq_len, feature_dim, train_set_size, device)"
   ]
  }
 ],
 "metadata": {
  "kernelspec": {
   "display_name": "dl-groups",
   "language": "python",
   "name": "python3"
  },
  "language_info": {
   "codemirror_mode": {
    "name": "ipython",
    "version": 3
   },
   "file_extension": ".py",
   "mimetype": "text/x-python",
   "name": "python",
   "nbconvert_exporter": "python",
   "pygments_lexer": "ipython3",
   "version": "3.11.9"
  }
 },
 "nbformat": 4,
 "nbformat_minor": 2
}
